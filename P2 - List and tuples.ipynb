{
  "nbformat": 4,
  "nbformat_minor": 0,
  "metadata": {
    "colab": {
      "provenance": []
    },
    "kernelspec": {
      "name": "python3",
      "display_name": "Python 3"
    },
    "language_info": {
      "name": "python"
    }
  },
  "cells": [
    {
      "cell_type": "markdown",
      "source": [
        "List and Tuples"
      ],
      "metadata": {
        "id": "Z6WGzTTzjsvd"
      }
    },
    {
      "cell_type": "code",
      "source": [
        "# Importing necessary libraries\n",
        "import timeit\n",
        "import random\n",
        "from bisect import bisect_left\n",
        "from collections import deque"
      ],
      "metadata": {
        "id": "PCwgd2yfd20v"
      },
      "execution_count": 23,
      "outputs": []
    },
    {
      "cell_type": "code",
      "source": [
        "def generate_random_string(length):\n",
        "    \"\"\"Return a random string of uppercase ASCII letters with the specified length.\"\"\"\n",
        "    from string import ascii_uppercase\n",
        "    return ''.join(random.choice(ascii_uppercase) for _ in range(length))\n",
        "\n",
        "def benchmark_operations(operation_code, setup_code, input_sizes=[10000, 20000, 30000], repeat_mode=False, time_unit='ms'):\n",
        "    \"\"\"Benchmark various operations over different input sizes and print the results.\"\"\"\n",
        "    result_times = []\n",
        "    for size in input_sizes:\n",
        "        formatted_setup = setup_code.format(N=size)\n",
        "        formatted_operation = operation_code.format(N=size)\n",
        "\n",
        "        if repeat_mode:\n",
        "            time_results = timeit.repeat(formatted_operation, formatted_setup, number=1, repeat=5)\n",
        "            result_times.append(min(time_results))\n",
        "        else:\n",
        "            time_results = timeit.repeat(formatted_operation, formatted_setup, number=10, repeat=3)\n",
        "            result_times.append(min(time / 10 for time in time_results))\n",
        "\n",
        "    time_conversion_factor = {'us': 1e6, 'ms': 1e3}[time_unit]\n",
        "    for size, time in zip(input_sizes, result_times):\n",
        "        print(f'Size: {size}, Time: {time * time_conversion_factor:.2f} ({time_unit})')"
      ],
      "metadata": {
        "id": "HONUNsMPfsoY"
      },
      "execution_count": 17,
      "outputs": []
    },
    {
      "cell_type": "code",
      "source": [
        "# Test list operations\n",
        "list_setup = 'my_list = list(range({N}))'\n",
        "benchmark_operations('my_list.pop()', list_setup)\n",
        "benchmark_operations('my_list.pop(0)', list_setup)\n",
        "benchmark_operations('my_list.append(1)', list_setup)\n",
        "benchmark_operations('my_list.insert(0, 1)', list_setup)\n",
        "benchmark_operations('my_list.insert(int({N}/2), 1)', list_setup)"
      ],
      "metadata": {
        "colab": {
          "base_uri": "https://localhost:8080/"
        },
        "id": "56kquPoUf1H7",
        "outputId": "259f0244-aed4-44de-c552-c94185ace6e0"
      },
      "execution_count": 18,
      "outputs": [
        {
          "output_type": "stream",
          "name": "stdout",
          "text": [
            "Size: 10000, Time: 0.00 (ms)\n",
            "Size: 20000, Time: 0.00 (ms)\n",
            "Size: 30000, Time: 0.00 (ms)\n",
            "Size: 10000, Time: 0.00 (ms)\n",
            "Size: 20000, Time: 0.00 (ms)\n",
            "Size: 30000, Time: 0.01 (ms)\n",
            "Size: 10000, Time: 0.00 (ms)\n",
            "Size: 20000, Time: 0.00 (ms)\n",
            "Size: 30000, Time: 0.00 (ms)\n",
            "Size: 10000, Time: 0.00 (ms)\n",
            "Size: 20000, Time: 0.01 (ms)\n",
            "Size: 30000, Time: 0.01 (ms)\n",
            "Size: 10000, Time: 0.00 (ms)\n",
            "Size: 20000, Time: 0.00 (ms)\n",
            "Size: 30000, Time: 0.01 (ms)\n"
          ]
        }
      ]
    },
    {
      "cell_type": "code",
      "source": [
        "# Test searching within a list\n",
        "list_search_setup = '''\n",
        "import random\n",
        "random.seed(42)\n",
        "my_list = list(range({N}))\n",
        "'''\n",
        "benchmark_operations('my_list.index(random.randint(0, {N} - 1))', list_search_setup)"
      ],
      "metadata": {
        "colab": {
          "base_uri": "https://localhost:8080/"
        },
        "id": "2oCs_-qpf_Gw",
        "outputId": "f1c76a45-bfa6-454b-f40d-79e8bc1439e2"
      },
      "execution_count": 19,
      "outputs": [
        {
          "output_type": "stream",
          "name": "stdout",
          "text": [
            "Size: 10000, Time: 0.05 (ms)\n",
            "Size: 20000, Time: 0.13 (ms)\n",
            "Size: 30000, Time: 0.17 (ms)\n"
          ]
        }
      ]
    },
    {
      "cell_type": "code",
      "source": [
        "# Test bisect operations\n",
        "def index_with_bisect(lst, target):\n",
        "    \"\"\"Find the index of target in lst using bisect.\"\"\"\n",
        "    idx = bisect_left(lst, target)\n",
        "    if idx != len(lst) and lst[idx] == target:\n",
        "        return idx\n",
        "    return -1\n",
        "\n",
        "bisect_setup = '''\n",
        "from __main__ import index_with_bisect\n",
        "import random\n",
        "random.seed(42)\n",
        "sorted_list = list(range({N}))\n",
        "'''\n",
        "benchmark_operations('index_with_bisect(sorted_list, random.randint(0, {N} - 1))', bisect_setup)"
      ],
      "metadata": {
        "colab": {
          "base_uri": "https://localhost:8080/"
        },
        "id": "jcYHqi0kgC0F",
        "outputId": "1c8225e2-984f-407a-c38c-3473468d7e84"
      },
      "execution_count": 20,
      "outputs": [
        {
          "output_type": "stream",
          "name": "stdout",
          "text": [
            "Size: 10000, Time: 0.00 (ms)\n",
            "Size: 20000, Time: 0.00 (ms)\n",
            "Size: 30000, Time: 0.00 (ms)\n"
          ]
        }
      ]
    },
    {
      "cell_type": "code",
      "source": [
        "# Test deque operations\n",
        "deque_setup = 'from collections import deque\\ndeq = deque(range({N}))'\n",
        "benchmark_operations('deq.pop()', deque_setup)\n",
        "benchmark_operations('deq.popleft()', deque_setup)\n",
        "benchmark_operations('deq.append(1)', deque_setup)\n",
        "benchmark_operations('deq.appendleft(1)', deque_setup)\n",
        "benchmark_operations('deq[0]', deque_setup)\n",
        "benchmark_operations('deq[{N} - 1]', deque_setup)\n",
        "benchmark_operations('deq[int({N}/2)]', deque_setup)"
      ],
      "metadata": {
        "colab": {
          "base_uri": "https://localhost:8080/"
        },
        "id": "8EKhBszbgGtc",
        "outputId": "03ca42cf-baba-442c-afbf-4be68836606e"
      },
      "execution_count": 21,
      "outputs": [
        {
          "output_type": "stream",
          "name": "stdout",
          "text": [
            "Size: 10000, Time: 0.00 (ms)\n",
            "Size: 20000, Time: 0.00 (ms)\n",
            "Size: 30000, Time: 0.00 (ms)\n",
            "Size: 10000, Time: 0.00 (ms)\n",
            "Size: 20000, Time: 0.00 (ms)\n",
            "Size: 30000, Time: 0.00 (ms)\n",
            "Size: 10000, Time: 0.00 (ms)\n",
            "Size: 20000, Time: 0.00 (ms)\n",
            "Size: 30000, Time: 0.00 (ms)\n",
            "Size: 10000, Time: 0.00 (ms)\n",
            "Size: 20000, Time: 0.00 (ms)\n",
            "Size: 30000, Time: 0.00 (ms)\n",
            "Size: 10000, Time: 0.00 (ms)\n",
            "Size: 20000, Time: 0.00 (ms)\n",
            "Size: 30000, Time: 0.00 (ms)\n",
            "Size: 10000, Time: 0.00 (ms)\n",
            "Size: 20000, Time: 0.00 (ms)\n",
            "Size: 30000, Time: 0.00 (ms)\n",
            "Size: 10000, Time: 0.00 (ms)\n",
            "Size: 20000, Time: 0.00 (ms)\n",
            "Size: 30000, Time: 0.00 (ms)\n"
          ]
        }
      ]
    }
  ]
}