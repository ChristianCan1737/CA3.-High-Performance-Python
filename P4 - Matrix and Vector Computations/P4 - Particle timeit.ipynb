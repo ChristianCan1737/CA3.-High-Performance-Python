{
  "nbformat": 4,
  "nbformat_minor": 0,
  "metadata": {
    "colab": {
      "provenance": []
    },
    "kernelspec": {
      "name": "python3",
      "display_name": "Python 3"
    },
    "language_info": {
      "name": "python"
    }
  },
  "cells": [
    {
      "cell_type": "code",
      "execution_count": 1,
      "metadata": {
        "id": "cNdQPkn2aVEG"
      },
      "outputs": [],
      "source": [
        "from particles import benchmark"
      ]
    },
    {
      "cell_type": "code",
      "source": [
        "%timeit benchmark(100, \"numpy\")"
      ],
      "metadata": {
        "colab": {
          "base_uri": "https://localhost:8080/"
        },
        "id": "FPsCKiX4apa3",
        "outputId": "11530f8d-4c25-4e4a-9ddb-a8a70846df28"
      },
      "execution_count": 2,
      "outputs": [
        {
          "output_type": "stream",
          "name": "stdout",
          "text": [
            "164 ms ± 30.8 ms per loop (mean ± std. dev. of 7 runs, 10 loops each)\n"
          ]
        }
      ]
    },
    {
      "cell_type": "code",
      "source": [
        "%timeit benchmark(100, \"python\")"
      ],
      "metadata": {
        "colab": {
          "base_uri": "https://localhost:8080/"
        },
        "id": "P3G1rrA_a0Tj",
        "outputId": "e07a9a68-4912-41c0-bb34-ad8cc8a1c3d8"
      },
      "execution_count": 3,
      "outputs": [
        {
          "output_type": "stream",
          "name": "stdout",
          "text": [
            "943 ms ± 261 ms per loop (mean ± std. dev. of 7 runs, 1 loop each)\n"
          ]
        }
      ]
    }
  ]
}