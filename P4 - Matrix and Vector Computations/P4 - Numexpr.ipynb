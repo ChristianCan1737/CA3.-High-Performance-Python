{
  "nbformat": 4,
  "nbformat_minor": 0,
  "metadata": {
    "colab": {
      "provenance": [],
      "gpuType": "T4"
    },
    "kernelspec": {
      "name": "python3",
      "display_name": "Python 3"
    },
    "language_info": {
      "name": "python"
    },
    "accelerator": "GPU"
  },
  "cells": [
    {
      "cell_type": "markdown",
      "source": [
        "Matrix and Vector Computations"
      ],
      "metadata": {
        "id": "lflIHJymQxsc"
      }
    },
    {
      "cell_type": "code",
      "source": [
        "import numpy as np\n",
        "import numexpr as ne\n",
        "import timeit"
      ],
      "metadata": {
        "id": "VJGCtiaUhRwY"
      },
      "execution_count": 3,
      "outputs": []
    },
    {
      "cell_type": "code",
      "source": [
        "a = np.random.rand(10000)\n",
        "b = np.random.rand(10000)\n",
        "c = np.random.rand(10000)\n",
        "d = ne.evaluate('a + b * c')"
      ],
      "metadata": {
        "id": "0xfQI685hTdZ"
      },
      "execution_count": 4,
      "outputs": []
    },
    {
      "cell_type": "code",
      "execution_count": 5,
      "metadata": {
        "id": "7fSJ6i2948AQ",
        "colab": {
          "base_uri": "https://localhost:8080/"
        },
        "outputId": "f104323a-bfaf-421d-a25f-372c1c1dc9c0"
      },
      "outputs": [
        {
          "output_type": "stream",
          "name": "stdout",
          "text": [
            "NumPy: 4.194437998474\n",
            "Numexpr: 0.9908297814510006\n"
          ]
        }
      ],
      "source": [
        "def distance_matrix_numpy(r):\n",
        "    r_i = r[:, np.newaxis]\n",
        "    r_j = r[np.newaxis, :]\n",
        "    d_ij = r_j - r_i\n",
        "    d_ij = np.sqrt((d_ij ** 2).sum(axis=2))\n",
        "    return d_ij\n",
        "\n",
        "# We generate the random positions of the particles are created\n",
        "r = np.random.rand(10000, 2)\n",
        "\n",
        "# The distance is calculated matrix using NumPy\n",
        "d_numpy = distance_matrix_numpy(r)\n",
        "\n",
        "\n",
        "\n",
        "def distance_matrix_numexpr(r):\n",
        "    r_i = r[:, np.newaxis]\n",
        "    r_j = r[np.newaxis, :]\n",
        "\n",
        "    # Numexpr doesn't support slicing directly, so we operate on the whole arrays.\n",
        "    d_ij2 = ne.evaluate('sum((r_j - r_i)**2, axis=2)')\n",
        "    d_ij = ne.evaluate('sqrt(d_ij2)')\n",
        "\n",
        "    return d_ij\n",
        "\n",
        "# The distance matrix is calculated using numexpr\n",
        "d_numexpr = distance_matrix_numexpr(r)\n",
        "\n",
        "\n",
        "def benchmark():\n",
        "    r = np.random.rand(10000, 2)\n",
        "    result = timeit.timeit('distance_matrix_numpy(r)',\n",
        "                           setup = 'from __main__ import distance_matrix_numpy, r',\n",
        "                           number = 1000)\n",
        "    print(\"NumPy: {}\".format(result/1000))\n",
        "\n",
        "    result = timeit.timeit('distance_matrix_numexpr(r)',\n",
        "                           setup = 'from __main__ import distance_matrix_numexpr, r',\n",
        "                           number = 1000)\n",
        "    print(\"Numexpr: {}\".format(result/1000))\n",
        "\n",
        "if __name__ == \"__main__\":\n",
        "\n",
        "    benchmark()"
      ]
    }
  ]
}